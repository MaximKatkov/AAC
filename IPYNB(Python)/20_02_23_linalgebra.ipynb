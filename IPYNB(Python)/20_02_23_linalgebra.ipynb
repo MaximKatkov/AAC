{
 "cells": [
  {
   "cell_type": "code",
   "execution_count": 14,
   "id": "bea3416e",
   "metadata": {},
   "outputs": [
    {
     "ename": "KeyboardInterrupt",
     "evalue": "Interrupted by user",
     "output_type": "error",
     "traceback": [
      "\u001b[1;31m---------------------------------------------------------------------------\u001b[0m",
      "\u001b[1;31mKeyboardInterrupt\u001b[0m                         Traceback (most recent call last)",
      "Cell \u001b[1;32mIn[14], line 2\u001b[0m\n\u001b[0;32m      1\u001b[0m \u001b[38;5;28;01mimport\u001b[39;00m \u001b[38;5;21;01mcmath\u001b[39;00m\n\u001b[1;32m----> 2\u001b[0m a\u001b[38;5;241m=\u001b[39m\u001b[38;5;28mcomplex\u001b[39m(\u001b[38;5;28;43minput\u001b[39;49m\u001b[43m(\u001b[49m\u001b[38;5;124;43m'\u001b[39;49m\u001b[38;5;124;43ma=\u001b[39;49m\u001b[38;5;124;43m'\u001b[39;49m\u001b[43m)\u001b[49m)\n\u001b[0;32m      3\u001b[0m b\u001b[38;5;241m=\u001b[39m\u001b[38;5;28mcomplex\u001b[39m(\u001b[38;5;28minput\u001b[39m(\u001b[38;5;124m'\u001b[39m\u001b[38;5;124mb=\u001b[39m\u001b[38;5;124m'\u001b[39m))\n\u001b[0;32m      4\u001b[0m c\u001b[38;5;241m=\u001b[39m\u001b[38;5;28mcomplex\u001b[39m(\u001b[38;5;28minput\u001b[39m(\u001b[38;5;124m'\u001b[39m\u001b[38;5;124mc=\u001b[39m\u001b[38;5;124m'\u001b[39m))\n",
      "File \u001b[1;32mC:\\Anaconda3\\lib\\site-packages\\ipykernel\\kernelbase.py:1175\u001b[0m, in \u001b[0;36mKernel.raw_input\u001b[1;34m(self, prompt)\u001b[0m\n\u001b[0;32m   1171\u001b[0m \u001b[38;5;28;01mif\u001b[39;00m \u001b[38;5;129;01mnot\u001b[39;00m \u001b[38;5;28mself\u001b[39m\u001b[38;5;241m.\u001b[39m_allow_stdin:\n\u001b[0;32m   1172\u001b[0m     \u001b[38;5;28;01mraise\u001b[39;00m StdinNotImplementedError(\n\u001b[0;32m   1173\u001b[0m         \u001b[38;5;124m\"\u001b[39m\u001b[38;5;124mraw_input was called, but this frontend does not support input requests.\u001b[39m\u001b[38;5;124m\"\u001b[39m\n\u001b[0;32m   1174\u001b[0m     )\n\u001b[1;32m-> 1175\u001b[0m \u001b[38;5;28;01mreturn\u001b[39;00m \u001b[38;5;28;43mself\u001b[39;49m\u001b[38;5;241;43m.\u001b[39;49m\u001b[43m_input_request\u001b[49m\u001b[43m(\u001b[49m\n\u001b[0;32m   1176\u001b[0m \u001b[43m    \u001b[49m\u001b[38;5;28;43mstr\u001b[39;49m\u001b[43m(\u001b[49m\u001b[43mprompt\u001b[49m\u001b[43m)\u001b[49m\u001b[43m,\u001b[49m\n\u001b[0;32m   1177\u001b[0m \u001b[43m    \u001b[49m\u001b[38;5;28;43mself\u001b[39;49m\u001b[38;5;241;43m.\u001b[39;49m\u001b[43m_parent_ident\u001b[49m\u001b[43m[\u001b[49m\u001b[38;5;124;43m\"\u001b[39;49m\u001b[38;5;124;43mshell\u001b[39;49m\u001b[38;5;124;43m\"\u001b[39;49m\u001b[43m]\u001b[49m\u001b[43m,\u001b[49m\n\u001b[0;32m   1178\u001b[0m \u001b[43m    \u001b[49m\u001b[38;5;28;43mself\u001b[39;49m\u001b[38;5;241;43m.\u001b[39;49m\u001b[43mget_parent\u001b[49m\u001b[43m(\u001b[49m\u001b[38;5;124;43m\"\u001b[39;49m\u001b[38;5;124;43mshell\u001b[39;49m\u001b[38;5;124;43m\"\u001b[39;49m\u001b[43m)\u001b[49m\u001b[43m,\u001b[49m\n\u001b[0;32m   1179\u001b[0m \u001b[43m    \u001b[49m\u001b[43mpassword\u001b[49m\u001b[38;5;241;43m=\u001b[39;49m\u001b[38;5;28;43;01mFalse\u001b[39;49;00m\u001b[43m,\u001b[49m\n\u001b[0;32m   1180\u001b[0m \u001b[43m\u001b[49m\u001b[43m)\u001b[49m\n",
      "File \u001b[1;32mC:\\Anaconda3\\lib\\site-packages\\ipykernel\\kernelbase.py:1217\u001b[0m, in \u001b[0;36mKernel._input_request\u001b[1;34m(self, prompt, ident, parent, password)\u001b[0m\n\u001b[0;32m   1214\u001b[0m             \u001b[38;5;28;01mbreak\u001b[39;00m\n\u001b[0;32m   1215\u001b[0m \u001b[38;5;28;01mexcept\u001b[39;00m \u001b[38;5;167;01mKeyboardInterrupt\u001b[39;00m:\n\u001b[0;32m   1216\u001b[0m     \u001b[38;5;66;03m# re-raise KeyboardInterrupt, to truncate traceback\u001b[39;00m\n\u001b[1;32m-> 1217\u001b[0m     \u001b[38;5;28;01mraise\u001b[39;00m \u001b[38;5;167;01mKeyboardInterrupt\u001b[39;00m(\u001b[38;5;124m\"\u001b[39m\u001b[38;5;124mInterrupted by user\u001b[39m\u001b[38;5;124m\"\u001b[39m) \u001b[38;5;28;01mfrom\u001b[39;00m \u001b[38;5;28mNone\u001b[39m\n\u001b[0;32m   1218\u001b[0m \u001b[38;5;28;01mexcept\u001b[39;00m \u001b[38;5;167;01mException\u001b[39;00m:\n\u001b[0;32m   1219\u001b[0m     \u001b[38;5;28mself\u001b[39m\u001b[38;5;241m.\u001b[39mlog\u001b[38;5;241m.\u001b[39mwarning(\u001b[38;5;124m\"\u001b[39m\u001b[38;5;124mInvalid Message:\u001b[39m\u001b[38;5;124m\"\u001b[39m, exc_info\u001b[38;5;241m=\u001b[39m\u001b[38;5;28;01mTrue\u001b[39;00m)\n",
      "\u001b[1;31mKeyboardInterrupt\u001b[0m: Interrupted by user"
     ]
    }
   ],
   "source": [
    "import cmath\n",
    "a=complex(input('a='))\n",
    "b=complex(input('b='))\n",
    "c=complex(input('c='))\n",
    "#ax^2+bx+c=0\n",
    "if a==0 and b==0 and c==0 :\n",
    "    print('х - любое решение')\n",
    "if a==b==0 and c!=0:\n",
    "    print('х - любое решение')\n",
    "else:\n",
    "    x1=(-b+(b**(2)-4*a*c)**(0.5))/2*a\n",
    "    x2=(-b-(b**(2)-4*a*c)**(0.5))/2*a\n",
    "#Работа с компл.числ. с помощью модуля cmath .imag-мнимая часть , .real-реальная часть\n",
    "    if x1.imag==0:\n",
    "        x1=x1.real\n",
    "    if x2.imag==0:\n",
    "        x2=x2.real\n",
    "    print('x1 =',x1)\n",
    "    print('x2 =',x2)\n",
    "    \n"
   ]
  },
  {
   "cell_type": "code",
   "execution_count": null,
   "id": "ecfe8b65",
   "metadata": {
    "scrolled": true
   },
   "outputs": [
    {
     "name": "stdout",
     "output_type": "stream",
     "text": [
      " a1x+b1y=c1 \n",
      " a2x+b2y=c2 \n",
      "\n"
     ]
    }
   ],
   "source": [
    "import cmath\n",
    "#import numpy\n",
    "print(' a1x+b1y=c1','\\n','a2x+b2y=c2','\\n')\n",
    "#a1=complex(input('a1='))\n",
    "#b1=complex(input('b1='))\n",
    "#c1=complex(input('c1='))\n",
    "#a2=complex(input('a2='))\n",
    "#b2=complex(input('b2='))\n",
    "#c2=complex(input('c2='))\n",
    "a1=float(input('a1='))\n",
    "b1=float(input('b1='))\n",
    "c1=float(input('c1='))\n",
    "a2=float(input('a2='))\n",
    "b2=float(input('b2='))\n",
    "c2=float(input('c2='))\n",
    "print('\\n')\n",
    "# Воспользуемся numpy массивами для записи матрицы\n",
    "# Матрица правой части системы\n",
    "#M=numpy.array([[a1, b1],[a2,b2]])\n",
    "# Матрица левой части системы\n",
    "#V=numpy.array([c1,c2])\n",
    "# Для решения системы воспользуемся функцией numpy.linalg.solve()\n",
    "#p=list(numpy.linalg.solve(M,V))# numpy массив в список чтобы использовать .real,.imag\n",
    "#if p[0].imag==0:\n",
    "    #    p[0]=p[0].real\n",
    "#if p[1].imag==0:\n",
    "     #   p[1]=p[1].real\n",
    "#print('\\n','x =',p[0],'\\n','y =',p[1])\n",
    "\n",
    "#--------------------------------------------------------------------#\n",
    "if a1==0 and a2==0 and b1==0 and c1==0 and b2!=0:\n",
    "    y=c2/b2 \n",
    "   # if y.imag==0:\n",
    "   # y=y.real\n",
    "    print (\"y= \",y)\n",
    "elif a2==0 and a1==0 and b2==0 and c2==0 and b1!=0: \n",
    "    y=c1/b1 \n",
    "   # if y.imag==0:\n",
    "   # y=y.real\n",
    "    print (\"y= \",y) \n",
    "elif a2==0 and b1==0 and b2==0 and c2==0 and a1!=0: \n",
    "    x=c1/a1 \n",
    "   # if x.imag==0:\n",
    "   # x=x.real\n",
    "    print (\"x= \",x) \n",
    "elif a1==0 and b1==0 and b2==0 and c1==0 and a2!=0: \n",
    "    x=c2/a2\n",
    "   # if x.imag==0:\n",
    "    #x=x.real\n",
    "    print (\"x= \",x) \n",
    "elif a1==a2==0 and (b1==(-1*b2) or b2==(-1*b1)) and (c1==(-1*c2) or c2==(-1*c1)) : \n",
    "    y=c1/b1 \n",
    "   # if y.imag==0:\n",
    "   # y=y.real\n",
    "    print(\"y= \",y) \n",
    "elif b1==b2==0 and (a1==(-1*a2) or a2==(-1*a1)) and (c1==(-1*c2) or c2==(-1*c1)) : \n",
    "    x=c1/a1\n",
    "   # if x.imag==0:\n",
    "   # x=x.real\n",
    "    print(\"x= \",x) \n",
    "elif a1==a2 and b1==b2 and c1== c2: \n",
    "    print(f\"x - любое + y=({a1/b1}*x-{c1/b1})\") \n",
    "elif a1==a2==0 and c1==c2==0 and b1!=0 and b2!=0 : \n",
    "    print(\"x- любое, y=0\") \n",
    "elif b1==b2==0 and c1==c2==0 and a1!=0 and a2!=0 : \n",
    "    print(\"y- любое, x=0\") \n",
    "elif c1==a2==b2==c2==0 and a1!=0 and b1!=0:\n",
    "    print('y=',-b1/a1,'x')\n",
    "elif c1==a1==b1==c2==0 and a2!=0 and b2!=0:\n",
    "    print('y=',-b2/a2,'x')\n",
    "#результат X=A^(-1)*B \n",
    "else:\n",
    "    detA=a1*b2-b1*a2\n",
    "    if detA==0:\n",
    "        print('Сама Система несовместима,имеет бесконечное множество решений, либо не имеет решений.')   \n",
    "#Миноры M11=b2,M12=a2,M21=b1,M22=a1\n",
    "#Алгебраические дополнения A11=b2,A12=-a2,A21=-b1,A22=a1\n",
    "#C=(A11 A12,A21 A22)-союзная , CT=(A11 A21,A12 A22) - транспонированная\n",
    "    else:\n",
    "        A1=[b2/detA,-b1/detA,-a2/detA,a1/detA]\n",
    "        B=[c1,c2]\n",
    "        X=[A1[0]*B[0]+A1[1]*B[1],A1[2]*B[0]+A1[3]*B[1]]\n",
    "\n",
    "        if X[0].imag==0:\n",
    "            X[0]=X[0].real\n",
    "        if X[1].imag==0:\n",
    "            X[1]=X[1].real\n",
    "        print('\\n','x =',X[0],'\\n','y =',X[1])\n",
    "\n"
   ]
  },
  {
   "cell_type": "code",
   "execution_count": null,
   "id": "c993f29f",
   "metadata": {},
   "outputs": [],
   "source": []
  }
 ],
 "metadata": {
  "kernelspec": {
   "display_name": "Python 3 (ipykernel)",
   "language": "python",
   "name": "python3"
  },
  "language_info": {
   "codemirror_mode": {
    "name": "ipython",
    "version": 3
   },
   "file_extension": ".py",
   "mimetype": "text/x-python",
   "name": "python",
   "nbconvert_exporter": "python",
   "pygments_lexer": "ipython3",
   "version": "3.9.13"
  }
 },
 "nbformat": 4,
 "nbformat_minor": 5
}
