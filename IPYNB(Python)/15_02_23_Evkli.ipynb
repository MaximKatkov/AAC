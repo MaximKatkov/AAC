{
 "cells": [
  {
   "cell_type": "code",
   "execution_count": 3,
   "id": "3bfe179c",
   "metadata": {},
   "outputs": [
    {
     "name": "stdout",
     "output_type": "stream",
     "text": [
      "a=355\n",
      "b=45\n",
      "НОД:355,45\n",
      "НОД:45,40\n",
      "НОД:40,5\n",
      "НОД:5,0\n"
     ]
    }
   ],
   "source": [
    "#Алгоритм Евклида с помощью Рекурсии\n",
    "\n",
    "def NOD(a,b):\n",
    "   \n",
    "    if a<b:\n",
    "        a1=a\n",
    "        a=b \n",
    "        b=a1 \n",
    "    if b>0:\n",
    "         q=int(a/b) \n",
    "         r= a - q*b \n",
    "         a=b\n",
    "         b=r\n",
    "         print('НОД:'+str(a)+','+str(b))\n",
    "         return NOD(a,b)\n",
    "\n",
    "\n",
    "a=int(input('a='))\n",
    "b=int(input('b='))\n",
    "print('НОД:'+str(a)+','+str(b))\n",
    "NOD(a,b)\n"
   ]
  },
  {
   "cell_type": "code",
   "execution_count": null,
   "id": "85a2f491",
   "metadata": {},
   "outputs": [],
   "source": []
  }
 ],
 "metadata": {
  "kernelspec": {
   "display_name": "Python 3 (ipykernel)",
   "language": "python",
   "name": "python3"
  },
  "language_info": {
   "codemirror_mode": {
    "name": "ipython",
    "version": 3
   },
   "file_extension": ".py",
   "mimetype": "text/x-python",
   "name": "python",
   "nbconvert_exporter": "python",
   "pygments_lexer": "ipython3",
   "version": "3.9.13"
  }
 },
 "nbformat": 4,
 "nbformat_minor": 5
}
