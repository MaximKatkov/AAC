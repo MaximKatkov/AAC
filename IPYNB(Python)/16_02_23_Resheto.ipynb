{
 "cells": [
  {
   "cell_type": "code",
   "execution_count": 22,
   "id": "74fd1a77",
   "metadata": {
    "scrolled": false
   },
   "outputs": [
    {
     "name": "stdout",
     "output_type": "stream",
     "text": [
      "Диапазон чисел от 0 до 25\n",
      "[0, 1, 2, 3, 4, 5, 6, 7, 8, 9, 10, 11, 12, 13, 14, 15, 16, 17, 18, 19, 20, 21, 22, 23, 24, 25]\n",
      "Простые числа: \n",
      "[2, 3, 5, 7, 11, 13, 17, 19, 23]\n"
     ]
    }
   ],
   "source": [
    "#Алгоритм Решето\n",
    "N=int(input('Диапазон чисел от 0 до '))\n",
    "array=[]\n",
    "for i in range(N+1):\n",
    "    array.append(i)\n",
    "print (array) \n",
    "array[1]=0\n",
    "i=2\n",
    "while i<=N**(0.5):\n",
    "    if array[i]!=0:\n",
    "        j=i**2\n",
    "        while j<=N:\n",
    "            array[j]=0\n",
    "            j+=i\n",
    "    i+=1\n",
    "new_array=[]\n",
    "for i in array:\n",
    "    if array[i]!=0 :\n",
    "        new_array.append(array[i])\n",
    "print('Простые числа: ')\n",
    "print(new_array)\n",
    "\n"
   ]
  },
  {
   "cell_type": "code",
   "execution_count": null,
   "id": "3d1fc005",
   "metadata": {},
   "outputs": [],
   "source": []
  }
 ],
 "metadata": {
  "kernelspec": {
   "display_name": "Python 3 (ipykernel)",
   "language": "python",
   "name": "python3"
  },
  "language_info": {
   "codemirror_mode": {
    "name": "ipython",
    "version": 3
   },
   "file_extension": ".py",
   "mimetype": "text/x-python",
   "name": "python",
   "nbconvert_exporter": "python",
   "pygments_lexer": "ipython3",
   "version": "3.9.13"
  }
 },
 "nbformat": 4,
 "nbformat_minor": 5
}
